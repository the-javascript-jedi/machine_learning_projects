{
 "cells": [
  {
   "cell_type": "code",
   "execution_count": 1,
   "id": "d2bd414a",
   "metadata": {},
   "outputs": [],
   "source": [
    "import numpy as np"
   ]
  },
  {
   "cell_type": "markdown",
   "id": "7b9afe58",
   "metadata": {},
   "source": [
    "## DataTypes & Attributes"
   ]
  },
  {
   "cell_type": "code",
   "execution_count": 7,
   "id": "c8a82d29",
   "metadata": {},
   "outputs": [
    {
     "data": {
      "text/plain": [
       "array([1, 2, 3])"
      ]
     },
     "execution_count": 7,
     "metadata": {},
     "output_type": "execute_result"
    }
   ],
   "source": [
    "# NumPy's main datatype is ndarray\n",
    "# 1 dimensonal array\n",
    "a1=np.array([1,2,3])\n",
    "a1"
   ]
  },
  {
   "cell_type": "code",
   "execution_count": 8,
   "id": "53458dfa",
   "metadata": {},
   "outputs": [
    {
     "data": {
      "text/plain": [
       "numpy.ndarray"
      ]
     },
     "execution_count": 8,
     "metadata": {},
     "output_type": "execute_result"
    }
   ],
   "source": [
    "#check the type\n",
    "type(a1)"
   ]
  },
  {
   "cell_type": "code",
   "execution_count": 14,
   "id": "852d0713",
   "metadata": {},
   "outputs": [],
   "source": [
    "#2 dimensional array\n",
    "a2 = np.array([[1,2.0,3.3],[4,5,6.5]])\n",
    "a3 = np.array([\n",
    "    [\n",
    "        [1,2,3],[4,5,6],[7,8,9]\n",
    "    ],\n",
    "    [\n",
    "        [10,11,12],\n",
    "        [13,14,15],\n",
    "        [16,17,18]\n",
    "    ]\n",
    "])"
   ]
  },
  {
   "cell_type": "code",
   "execution_count": 15,
   "id": "fd16bfc3",
   "metadata": {},
   "outputs": [
    {
     "data": {
      "text/plain": [
       "array([[1. , 2. , 3.3],\n",
       "       [4. , 5. , 6.5]])"
      ]
     },
     "execution_count": 15,
     "metadata": {},
     "output_type": "execute_result"
    }
   ],
   "source": [
    "a2"
   ]
  },
  {
   "cell_type": "code",
   "execution_count": 16,
   "id": "e1d379ae",
   "metadata": {},
   "outputs": [
    {
     "data": {
      "text/plain": [
       "array([[[ 1,  2,  3],\n",
       "        [ 4,  5,  6],\n",
       "        [ 7,  8,  9]],\n",
       "\n",
       "       [[10, 11, 12],\n",
       "        [13, 14, 15],\n",
       "        [16, 17, 18]]])"
      ]
     },
     "execution_count": 16,
     "metadata": {},
     "output_type": "execute_result"
    }
   ],
   "source": [
    "a3"
   ]
  },
  {
   "cell_type": "code",
   "execution_count": null,
   "id": "e7ee5fbc",
   "metadata": {},
   "outputs": [],
   "source": [
    "# attributes of array"
   ]
  },
  {
   "cell_type": "code",
   "execution_count": 17,
   "id": "5bd9f411",
   "metadata": {},
   "outputs": [
    {
     "data": {
      "text/plain": [
       "(3,)"
      ]
     },
     "execution_count": 17,
     "metadata": {},
     "output_type": "execute_result"
    }
   ],
   "source": [
    "a1.shape"
   ]
  },
  {
   "cell_type": "code",
   "execution_count": 18,
   "id": "1c0e5ff3",
   "metadata": {},
   "outputs": [
    {
     "data": {
      "text/plain": [
       "(2, 3)"
      ]
     },
     "execution_count": 18,
     "metadata": {},
     "output_type": "execute_result"
    }
   ],
   "source": [
    "a2.shape"
   ]
  },
  {
   "cell_type": "code",
   "execution_count": 19,
   "id": "4c0e6de3",
   "metadata": {},
   "outputs": [
    {
     "data": {
      "text/plain": [
       "(2, 3, 3)"
      ]
     },
     "execution_count": 19,
     "metadata": {},
     "output_type": "execute_result"
    }
   ],
   "source": [
    "a3.shape"
   ]
  },
  {
   "cell_type": "code",
   "execution_count": 20,
   "id": "03ed5a38",
   "metadata": {},
   "outputs": [
    {
     "data": {
      "text/plain": [
       "(1, 2, 3)"
      ]
     },
     "execution_count": 20,
     "metadata": {},
     "output_type": "execute_result"
    }
   ],
   "source": [
    "# number of dimensions\n",
    "a1.ndim,a2.ndim,a3.ndim"
   ]
  },
  {
   "cell_type": "code",
   "execution_count": 21,
   "id": "b1828de3",
   "metadata": {},
   "outputs": [
    {
     "data": {
      "text/plain": [
       "(dtype('int32'), dtype('float64'), dtype('int32'))"
      ]
     },
     "execution_count": 21,
     "metadata": {},
     "output_type": "execute_result"
    }
   ],
   "source": [
    "# data type of array\n",
    "a1.dtype,a2.dtype,a3.dtype"
   ]
  },
  {
   "cell_type": "code",
   "execution_count": 22,
   "id": "bf733f92",
   "metadata": {},
   "outputs": [
    {
     "data": {
      "text/plain": [
       "(3, 6, 18)"
      ]
     },
     "execution_count": 22,
     "metadata": {},
     "output_type": "execute_result"
    }
   ],
   "source": [
    "# size of array\n",
    "a1.size,a2.size,a3.size"
   ]
  },
  {
   "cell_type": "code",
   "execution_count": 23,
   "id": "acfc44ae",
   "metadata": {},
   "outputs": [
    {
     "data": {
      "text/plain": [
       "(numpy.ndarray, numpy.ndarray, numpy.ndarray)"
      ]
     },
     "execution_count": 23,
     "metadata": {},
     "output_type": "execute_result"
    }
   ],
   "source": [
    "# type\n",
    "type(a1),type(a2),type(a3)"
   ]
  },
  {
   "cell_type": "code",
   "execution_count": 25,
   "id": "bb15169c",
   "metadata": {},
   "outputs": [
    {
     "data": {
      "text/html": [
       "<div>\n",
       "<style scoped>\n",
       "    .dataframe tbody tr th:only-of-type {\n",
       "        vertical-align: middle;\n",
       "    }\n",
       "\n",
       "    .dataframe tbody tr th {\n",
       "        vertical-align: top;\n",
       "    }\n",
       "\n",
       "    .dataframe thead th {\n",
       "        text-align: right;\n",
       "    }\n",
       "</style>\n",
       "<table border=\"1\" class=\"dataframe\">\n",
       "  <thead>\n",
       "    <tr style=\"text-align: right;\">\n",
       "      <th></th>\n",
       "      <th>0</th>\n",
       "      <th>1</th>\n",
       "      <th>2</th>\n",
       "    </tr>\n",
       "  </thead>\n",
       "  <tbody>\n",
       "    <tr>\n",
       "      <th>0</th>\n",
       "      <td>1.0</td>\n",
       "      <td>2.0</td>\n",
       "      <td>3.3</td>\n",
       "    </tr>\n",
       "    <tr>\n",
       "      <th>1</th>\n",
       "      <td>4.0</td>\n",
       "      <td>5.0</td>\n",
       "      <td>6.5</td>\n",
       "    </tr>\n",
       "  </tbody>\n",
       "</table>\n",
       "</div>"
      ],
      "text/plain": [
       "     0    1    2\n",
       "0  1.0  2.0  3.3\n",
       "1  4.0  5.0  6.5"
      ]
     },
     "execution_count": 25,
     "metadata": {},
     "output_type": "execute_result"
    }
   ],
   "source": [
    "# Create a Dataframe from a NumPy array\n",
    "import pandas as pd\n",
    "df=pd.DataFrame(a2)\n",
    "df"
   ]
  },
  {
   "cell_type": "markdown",
   "id": "5ebd0ab2",
   "metadata": {},
   "source": [
    "## 2.Creating arrays"
   ]
  },
  {
   "cell_type": "code",
   "execution_count": 26,
   "id": "61f3c78d",
   "metadata": {},
   "outputs": [
    {
     "data": {
      "text/plain": [
       "array([[1., 1., 1.],\n",
       "       [1., 1., 1.]])"
      ]
     },
     "execution_count": 26,
     "metadata": {},
     "output_type": "execute_result"
    }
   ],
   "source": [
    "# create a sample array filled with ones\n",
    "# enter shift+tab over the function to see the functions\n",
    "ones = np.ones((2,3))\n",
    "ones"
   ]
  },
  {
   "cell_type": "code",
   "execution_count": 27,
   "id": "4392fa71",
   "metadata": {},
   "outputs": [
    {
     "data": {
      "text/plain": [
       "dtype('float64')"
      ]
     },
     "execution_count": 27,
     "metadata": {},
     "output_type": "execute_result"
    }
   ],
   "source": [
    "#types\n",
    "ones.dtype"
   ]
  },
  {
   "cell_type": "code",
   "execution_count": 28,
   "id": "3bbeaaea",
   "metadata": {},
   "outputs": [
    {
     "data": {
      "text/plain": [
       "array([[0., 0., 0.],\n",
       "       [0., 0., 0.]])"
      ]
     },
     "execution_count": 28,
     "metadata": {},
     "output_type": "execute_result"
    }
   ],
   "source": [
    "# intialize an array with zeroes\n",
    "zeros=np.zeros((2,3))\n",
    "zeros"
   ]
  },
  {
   "cell_type": "code",
   "execution_count": 31,
   "id": "99ed4113",
   "metadata": {},
   "outputs": [
    {
     "data": {
      "text/plain": [
       "array([0, 2, 4, 6, 8])"
      ]
     },
     "execution_count": 31,
     "metadata": {},
     "output_type": "execute_result"
    }
   ],
   "source": [
    "#range array - start(0), stop(10) , step 2\n",
    "range_array=np.arange(0,10,2)\n",
    "range_array"
   ]
  },
  {
   "cell_type": "code",
   "execution_count": 18,
   "id": "0bb6a86b",
   "metadata": {},
   "outputs": [
    {
     "data": {
      "text/plain": [
       "array([[3, 5, 8, 8, 7],\n",
       "       [5, 0, 0, 2, 8],\n",
       "       [9, 6, 4, 9, 7]])"
      ]
     },
     "execution_count": 18,
     "metadata": {},
     "output_type": "execute_result"
    }
   ],
   "source": [
    "# method -1 fill array with random values\n",
    "# low - 0, high,10, size=(3,5) size of numpy array \n",
    "random_array=np.random.randint(0,10,size=(3,5))\n",
    "random_array"
   ]
  },
  {
   "cell_type": "code",
   "execution_count": 35,
   "id": "5e7aed71",
   "metadata": {},
   "outputs": [
    {
     "data": {
      "text/plain": [
       "15"
      ]
     },
     "execution_count": 35,
     "metadata": {},
     "output_type": "execute_result"
    }
   ],
   "source": [
    "random_array.size"
   ]
  },
  {
   "cell_type": "code",
   "execution_count": 36,
   "id": "29454962",
   "metadata": {},
   "outputs": [
    {
     "data": {
      "text/plain": [
       "(3, 5)"
      ]
     },
     "execution_count": 36,
     "metadata": {},
     "output_type": "execute_result"
    }
   ],
   "source": [
    "random_array.shape"
   ]
  },
  {
   "cell_type": "code",
   "execution_count": 37,
   "id": "56b28a7a",
   "metadata": {},
   "outputs": [
    {
     "data": {
      "text/plain": [
       "array([[0.73285788, 0.10965358, 0.54555105],\n",
       "       [0.46567665, 0.75729722, 0.89821131],\n",
       "       [0.22804504, 0.56651075, 0.71092391],\n",
       "       [0.87806937, 0.657448  , 0.6329956 ],\n",
       "       [0.96067997, 0.32363812, 0.97594201]])"
      ]
     },
     "execution_count": 37,
     "metadata": {},
     "output_type": "execute_result"
    }
   ],
   "source": [
    "# method -2 fill array with random values .random\n",
    "random_array_2=np.random.random((5,3))\n",
    "random_array_2"
   ]
  },
  {
   "cell_type": "code",
   "execution_count": 41,
   "id": "1fc615b5",
   "metadata": {},
   "outputs": [
    {
     "data": {
      "text/plain": [
       "array([[0.53824449, 0.49968844, 0.40578042],\n",
       "       [0.05142316, 0.05563771, 0.06350082],\n",
       "       [0.04492   , 0.27349652, 0.33535499],\n",
       "       [0.96758908, 0.12721486, 0.33977019],\n",
       "       [0.56175465, 0.02876552, 0.98058978]])"
      ]
     },
     "execution_count": 41,
     "metadata": {},
     "output_type": "execute_result"
    }
   ],
   "source": [
    "# method -3 fill array with random values - .rand\n",
    "random_array_3=np.random.rand(5,3)\n",
    "random_array_3"
   ]
  },
  {
   "cell_type": "code",
   "execution_count": 16,
   "id": "0a60f5e7",
   "metadata": {},
   "outputs": [
    {
     "data": {
      "text/plain": [
       "array([[0.07630829, 0.77991879, 0.43840923],\n",
       "       [0.72346518, 0.97798951, 0.53849587],\n",
       "       [0.50112046, 0.07205113, 0.26843898],\n",
       "       [0.4998825 , 0.67923   , 0.80373904],\n",
       "       [0.38094113, 0.06593635, 0.2881456 ]])"
      ]
     },
     "execution_count": 16,
     "metadata": {},
     "output_type": "execute_result"
    }
   ],
   "source": [
    "# Pseudo-random numbsers\n",
    "# we can specify a np.random.seed(1)or np.random.seed(n) - which will generate a random set of numbers \n",
    "# but this random set of numbers can be replicated every time we specify the n value inside np.random.seed(n)\n",
    "np.random.seed(7)\n",
    "random_array_4=np.random.random((5,3))\n",
    "random_array_4"
   ]
  },
  {
   "cell_type": "markdown",
   "id": "20e2a773",
   "metadata": {},
   "source": [
    "## 3. Viewing arrrays and matrices"
   ]
  },
  {
   "cell_type": "code",
   "execution_count": 19,
   "id": "2feb88b6",
   "metadata": {},
   "outputs": [
    {
     "data": {
      "text/plain": [
       "array([[3, 3, 8, 3, 0],\n",
       "       [1, 0, 0, 6, 7],\n",
       "       [7, 9, 3, 0, 7]])"
      ]
     },
     "execution_count": 19,
     "metadata": {},
     "output_type": "execute_result"
    }
   ],
   "source": [
    "random_array=np.random.randint(0,10,size=(3,5))\n",
    "random_array"
   ]
  },
  {
   "cell_type": "code",
   "execution_count": 20,
   "id": "73b4ef71",
   "metadata": {},
   "outputs": [
    {
     "data": {
      "text/plain": [
       "array([0, 1, 3, 6, 7, 8, 9])"
      ]
     },
     "execution_count": 20,
     "metadata": {},
     "output_type": "execute_result"
    }
   ],
   "source": [
    "# find the unique elements in an array\n",
    "np.unique(random_array)"
   ]
  },
  {
   "cell_type": "code",
   "execution_count": 21,
   "id": "cd02ee65",
   "metadata": {},
   "outputs": [],
   "source": [
    "a1=np.array([1,2,3])\n",
    "a2 = np.array([[1,2.0,3.3],[4,5,6.5]])\n",
    "a3 = np.array([\n",
    "    [\n",
    "        [1,2,3],[4,5,6],[7,8,9]\n",
    "    ],\n",
    "    [\n",
    "        [10,11,12],\n",
    "        [13,14,15],\n",
    "        [16,17,18]\n",
    "    ]\n",
    "])"
   ]
  },
  {
   "cell_type": "code",
   "execution_count": 22,
   "id": "96f71f8f",
   "metadata": {},
   "outputs": [
    {
     "data": {
      "text/plain": [
       "(array([1, 2, 3]),\n",
       " array([[1. , 2. , 3.3],\n",
       "        [4. , 5. , 6.5]]),\n",
       " array([[[ 1,  2,  3],\n",
       "         [ 4,  5,  6],\n",
       "         [ 7,  8,  9]],\n",
       " \n",
       "        [[10, 11, 12],\n",
       "         [13, 14, 15],\n",
       "         [16, 17, 18]]]))"
      ]
     },
     "execution_count": 22,
     "metadata": {},
     "output_type": "execute_result"
    }
   ],
   "source": [
    "a1,a2,a3"
   ]
  },
  {
   "cell_type": "code",
   "execution_count": 23,
   "id": "eebde044",
   "metadata": {},
   "outputs": [
    {
     "data": {
      "text/plain": [
       "2"
      ]
     },
     "execution_count": 23,
     "metadata": {},
     "output_type": "execute_result"
    }
   ],
   "source": [
    "a1[1]"
   ]
  },
  {
   "cell_type": "code",
   "execution_count": 24,
   "id": "4cbc5165",
   "metadata": {},
   "outputs": [
    {
     "data": {
      "text/plain": [
       "array([4. , 5. , 6.5])"
      ]
     },
     "execution_count": 24,
     "metadata": {},
     "output_type": "execute_result"
    }
   ],
   "source": [
    "a2[1]"
   ]
  },
  {
   "cell_type": "code",
   "execution_count": 27,
   "id": "6c13cb39",
   "metadata": {},
   "outputs": [
    {
     "data": {
      "text/plain": [
       "array([[10, 11, 12],\n",
       "       [13, 14, 15],\n",
       "       [16, 17, 18]])"
      ]
     },
     "execution_count": 27,
     "metadata": {},
     "output_type": "execute_result"
    }
   ],
   "source": [
    "a3[1]"
   ]
  },
  {
   "cell_type": "code",
   "execution_count": 28,
   "id": "be21fc11",
   "metadata": {},
   "outputs": [
    {
     "data": {
      "text/plain": [
       "array([[[ 1,  2],\n",
       "        [ 4,  5]],\n",
       "\n",
       "       [[10, 11],\n",
       "        [13, 14]]])"
      ]
     },
     "execution_count": 28,
     "metadata": {},
     "output_type": "execute_result"
    }
   ],
   "source": [
    "#display first two columns of row column and array\n",
    "a3[:2,:2,:2]"
   ]
  },
  {
   "cell_type": "code",
   "execution_count": 29,
   "id": "cd84f718",
   "metadata": {},
   "outputs": [
    {
     "data": {
      "text/plain": [
       "array([[[[7, 7, 0, 5, 4],\n",
       "         [3, 1, 3, 1, 3],\n",
       "         [4, 3, 1, 9, 5],\n",
       "         [9, 1, 2, 3, 2]],\n",
       "\n",
       "        [[2, 5, 7, 3, 0],\n",
       "         [9, 9, 3, 4, 5],\n",
       "         [3, 0, 4, 8, 6],\n",
       "         [7, 2, 7, 3, 8]],\n",
       "\n",
       "        [[6, 6, 5, 6, 5],\n",
       "         [7, 1, 5, 4, 4],\n",
       "         [9, 9, 0, 6, 2],\n",
       "         [6, 8, 2, 4, 1]]],\n",
       "\n",
       "\n",
       "       [[[6, 1, 5, 1, 6],\n",
       "         [9, 8, 6, 5, 9],\n",
       "         [7, 5, 4, 9, 6],\n",
       "         [8, 1, 5, 5, 8]],\n",
       "\n",
       "        [[3, 7, 7, 9, 4],\n",
       "         [7, 5, 9, 6, 2],\n",
       "         [0, 5, 3, 0, 5],\n",
       "         [7, 1, 8, 4, 9]],\n",
       "\n",
       "        [[0, 2, 0, 7, 6],\n",
       "         [2, 9, 9, 5, 1],\n",
       "         [0, 0, 9, 1, 1],\n",
       "         [5, 3, 2, 0, 4]]]])"
      ]
     },
     "execution_count": 29,
     "metadata": {},
     "output_type": "execute_result"
    }
   ],
   "source": [
    "# create a 4 dimensional array\n",
    "a4=np.random.randint(10,size=(2,3,4,5))\n",
    "a4"
   ]
  },
  {
   "cell_type": "code",
   "execution_count": 30,
   "id": "fc1583d9",
   "metadata": {},
   "outputs": [
    {
     "data": {
      "text/plain": [
       "((2, 3, 4, 5), 4)"
      ]
     },
     "execution_count": 30,
     "metadata": {},
     "output_type": "execute_result"
    }
   ],
   "source": [
    "#display shape and dimensions\n",
    "a4.shape,a4.ndim"
   ]
  },
  {
   "cell_type": "code",
   "execution_count": null,
   "id": "d6e4b908",
   "metadata": {},
   "outputs": [],
   "source": [
    "#get the first 4 numbers of inner most arrays"
   ]
  },
  {
   "cell_type": "code",
   "execution_count": null,
   "id": "69ba5915",
   "metadata": {},
   "outputs": [],
   "source": [
    "#slice the first 3 dimensions and slice the final dimension(containing 5) one with only 4 remaining"
   ]
  },
  {
   "cell_type": "code",
   "execution_count": 31,
   "id": "e29fac89",
   "metadata": {},
   "outputs": [
    {
     "data": {
      "text/plain": [
       "array([[[[7, 7, 0, 5],\n",
       "         [3, 1, 3, 1],\n",
       "         [4, 3, 1, 9],\n",
       "         [9, 1, 2, 3]],\n",
       "\n",
       "        [[2, 5, 7, 3],\n",
       "         [9, 9, 3, 4],\n",
       "         [3, 0, 4, 8],\n",
       "         [7, 2, 7, 3]],\n",
       "\n",
       "        [[6, 6, 5, 6],\n",
       "         [7, 1, 5, 4],\n",
       "         [9, 9, 0, 6],\n",
       "         [6, 8, 2, 4]]],\n",
       "\n",
       "\n",
       "       [[[6, 1, 5, 1],\n",
       "         [9, 8, 6, 5],\n",
       "         [7, 5, 4, 9],\n",
       "         [8, 1, 5, 5]],\n",
       "\n",
       "        [[3, 7, 7, 9],\n",
       "         [7, 5, 9, 6],\n",
       "         [0, 5, 3, 0],\n",
       "         [7, 1, 8, 4]],\n",
       "\n",
       "        [[0, 2, 0, 7],\n",
       "         [2, 9, 9, 5],\n",
       "         [0, 0, 9, 1],\n",
       "         [5, 3, 2, 0]]]])"
      ]
     },
     "execution_count": 31,
     "metadata": {},
     "output_type": "execute_result"
    }
   ],
   "source": [
    "a4[:,:,:,:4]"
   ]
  },
  {
   "cell_type": "code",
   "execution_count": 32,
   "id": "f60f92f8",
   "metadata": {},
   "outputs": [
    {
     "data": {
      "text/plain": [
       "array([[[[7, 7, 0],\n",
       "         [3, 1, 3],\n",
       "         [4, 3, 1],\n",
       "         [9, 1, 2]],\n",
       "\n",
       "        [[2, 5, 7],\n",
       "         [9, 9, 3],\n",
       "         [3, 0, 4],\n",
       "         [7, 2, 7]],\n",
       "\n",
       "        [[6, 6, 5],\n",
       "         [7, 1, 5],\n",
       "         [9, 9, 0],\n",
       "         [6, 8, 2]]],\n",
       "\n",
       "\n",
       "       [[[6, 1, 5],\n",
       "         [9, 8, 6],\n",
       "         [7, 5, 4],\n",
       "         [8, 1, 5]],\n",
       "\n",
       "        [[3, 7, 7],\n",
       "         [7, 5, 9],\n",
       "         [0, 5, 3],\n",
       "         [7, 1, 8]],\n",
       "\n",
       "        [[0, 2, 0],\n",
       "         [2, 9, 9],\n",
       "         [0, 0, 9],\n",
       "         [5, 3, 2]]]])"
      ]
     },
     "execution_count": 32,
     "metadata": {},
     "output_type": "execute_result"
    }
   ],
   "source": [
    "#more examples\n",
    "a4[:,:,:,:3]"
   ]
  },
  {
   "cell_type": "code",
   "execution_count": 33,
   "id": "0f126a4e",
   "metadata": {},
   "outputs": [
    {
     "data": {
      "text/plain": [
       "array([[[[7, 7],\n",
       "         [3, 1],\n",
       "         [4, 3],\n",
       "         [9, 1]],\n",
       "\n",
       "        [[2, 5],\n",
       "         [9, 9],\n",
       "         [3, 0],\n",
       "         [7, 2]],\n",
       "\n",
       "        [[6, 6],\n",
       "         [7, 1],\n",
       "         [9, 9],\n",
       "         [6, 8]]],\n",
       "\n",
       "\n",
       "       [[[6, 1],\n",
       "         [9, 8],\n",
       "         [7, 5],\n",
       "         [8, 1]],\n",
       "\n",
       "        [[3, 7],\n",
       "         [7, 5],\n",
       "         [0, 5],\n",
       "         [7, 1]],\n",
       "\n",
       "        [[0, 2],\n",
       "         [2, 9],\n",
       "         [0, 0],\n",
       "         [5, 3]]]])"
      ]
     },
     "execution_count": 33,
     "metadata": {},
     "output_type": "execute_result"
    }
   ],
   "source": [
    "a4[:,:,:,:2]"
   ]
  },
  {
   "cell_type": "code",
   "execution_count": 34,
   "id": "ceea4f1f",
   "metadata": {},
   "outputs": [
    {
     "data": {
      "text/plain": [
       "array([[[[7],\n",
       "         [3],\n",
       "         [4],\n",
       "         [9]],\n",
       "\n",
       "        [[2],\n",
       "         [9],\n",
       "         [3],\n",
       "         [7]],\n",
       "\n",
       "        [[6],\n",
       "         [7],\n",
       "         [9],\n",
       "         [6]]],\n",
       "\n",
       "\n",
       "       [[[6],\n",
       "         [9],\n",
       "         [7],\n",
       "         [8]],\n",
       "\n",
       "        [[3],\n",
       "         [7],\n",
       "         [0],\n",
       "         [7]],\n",
       "\n",
       "        [[0],\n",
       "         [2],\n",
       "         [0],\n",
       "         [5]]]])"
      ]
     },
     "execution_count": 34,
     "metadata": {},
     "output_type": "execute_result"
    }
   ],
   "source": [
    "a4[:,:,:,:1]"
   ]
  },
  {
   "cell_type": "code",
   "execution_count": null,
   "id": "60458f84",
   "metadata": {},
   "outputs": [],
   "source": []
  },
  {
   "cell_type": "code",
   "execution_count": null,
   "id": "2e946b6f",
   "metadata": {},
   "outputs": [],
   "source": []
  }
 ],
 "metadata": {
  "kernelspec": {
   "display_name": "Python 3 (ipykernel)",
   "language": "python",
   "name": "python3"
  },
  "language_info": {
   "codemirror_mode": {
    "name": "ipython",
    "version": 3
   },
   "file_extension": ".py",
   "mimetype": "text/x-python",
   "name": "python",
   "nbconvert_exporter": "python",
   "pygments_lexer": "ipython3",
   "version": "3.10.9"
  }
 },
 "nbformat": 4,
 "nbformat_minor": 5
}
